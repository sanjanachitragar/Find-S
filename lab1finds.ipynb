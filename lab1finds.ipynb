{
  "nbformat": 4,
  "nbformat_minor": 0,
  "metadata": {
    "colab": {
      "provenance": []
    },
    "kernelspec": {
      "name": "python3",
      "display_name": "Python 3"
    },
    "language_info": {
      "name": "python"
    }
  },
  "cells": [
    {
      "cell_type": "code",
      "source": [
        "import pandas as pd\n",
        "\n",
        "data = pd.read_csv('1finds.csv')\n",
        "print(data)\n",
        "\n",
        "concepts=data.iloc[:, 0 :-1].values                 #all rows and all columns except the last column (which is assumed to be the target column).\n",
        "#                             -- selects all rows (:) and all columns starting from  first column (0) up to, but not including,last column (-1).\n",
        "#concepts=data.iloc[:, :-1].values\n",
        "\n",
        "# two lines of code achieve the same result, which is extracting all columns except the last one\n",
        "print(\"-------------------------------------------\")\n",
        "print (concepts)\n",
        "print(\"----------------------------------------\")\n",
        "\n",
        "target = data.iloc[:,-1].values                      # all rows from the last column.\n",
        "print (target)\n",
        "\n",
        "def train(concepts,target):\n",
        "  count=0\n",
        "  specific_h = concepts[0]                  # first row of concepts\n",
        "  for i,h in enumerate(concepts):     # iterates over each row h in concepts using a for loop and its corresponding index i.\n",
        "    print(i)\n",
        "    print(h)\n",
        "\n",
        "    if target[i] == \"Yes\":\n",
        "\n",
        "      for x in range(len(specific_h)):            #iterates over each element x in the specific_h hypothesis.\n",
        "        if h[x] == specific_h[x]:\n",
        "          pass\n",
        "        else:\n",
        "          specific_h[x] = \"?\"\n",
        "      count = count + 1\n",
        "      print (f\"Hypothesis after sample number:{count} processed: {specific_h}\")\n",
        "\n",
        "    else:\n",
        "      pass\n",
        "      count = count + 1\n",
        "      print (f\"Negative sample number:{count} Same Hypothesis: {specific_h}\")\n",
        "  return specific_h\n",
        "\n",
        "specific_h=train(concepts,target)\n",
        "print(specific_h)"
      ],
      "metadata": {
        "id": "5ppRg4j-RO5M",
        "colab": {
          "base_uri": "https://localhost:8080/"
        },
        "outputId": "cd1207ef-180c-4325-f70b-3a49238d57cc"
      },
      "execution_count": null,
      "outputs": [
        {
          "output_type": "stream",
          "name": "stdout",
          "text": [
            "      Sky Airtemp Humidity    Wind Water Forecast WaterSport\n",
            "0   Sunny    Warm   Normal  Strong  Warm     Same        Yes\n",
            "1   Sunny    Warm     High  Strong  Warm     Same        Yes\n",
            "2  Cloudy    Cold     High  Strong  Warm   Change         No\n",
            "3   Sunny    Warm     High  Strong  Cool   Change        Yes\n",
            "-------------------------------------------\n",
            "[['Sunny' 'Warm' 'Normal' 'Strong' 'Warm' 'Same']\n",
            " ['Sunny' 'Warm' 'High' 'Strong' 'Warm' 'Same']\n",
            " ['Cloudy' 'Cold' 'High' 'Strong' 'Warm' 'Change']\n",
            " ['Sunny' 'Warm' 'High' 'Strong' 'Cool' 'Change']]\n",
            "----------------------------------------\n",
            "['Yes' 'Yes' 'No' 'Yes']\n",
            "0\n",
            "['Sunny' 'Warm' 'Normal' 'Strong' 'Warm' 'Same']\n",
            "Hypothesis after sample number:1 processed: ['Sunny' 'Warm' 'Normal' 'Strong' 'Warm' 'Same']\n",
            "1\n",
            "['Sunny' 'Warm' 'High' 'Strong' 'Warm' 'Same']\n",
            "Hypothesis after sample number:2 processed: ['Sunny' 'Warm' '?' 'Strong' 'Warm' 'Same']\n",
            "2\n",
            "['Cloudy' 'Cold' 'High' 'Strong' 'Warm' 'Change']\n",
            "Negative sample number:3 Same Hypothesis: ['Sunny' 'Warm' '?' 'Strong' 'Warm' 'Same']\n",
            "3\n",
            "['Sunny' 'Warm' 'High' 'Strong' 'Cool' 'Change']\n",
            "Hypothesis after sample number:4 processed: ['Sunny' 'Warm' '?' 'Strong' '?' '?']\n",
            "['Sunny' 'Warm' '?' 'Strong' '?' '?']\n"
          ]
        }
      ]
    }
  ]
}